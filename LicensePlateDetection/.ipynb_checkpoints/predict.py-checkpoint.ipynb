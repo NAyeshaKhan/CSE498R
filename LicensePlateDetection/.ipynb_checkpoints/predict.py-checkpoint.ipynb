{
 "cells": [
  {
   "cell_type": "code",
   "execution_count": null,
   "id": "feda2184",
   "metadata": {},
   "outputs": [],
   "source": [
    "import argparse\n",
    "import numpy as np\n",
    "from keras.models import load_model\n",
    "from keras.preprocessing.image import img_to_array\n",
    "import cv2"
   ]
  },
  {
   "cell_type": "code",
   "execution_count": null,
   "id": "624191a9",
   "metadata": {},
   "outputs": [],
   "source": [
    "ap = argparse.ArgumentParser()\n",
    "ap.add_argument(\"-i\", \"--image\", required=True, help=\"path to input image\")\n",
    "args = vars(ap.parse_args())"
   ]
  },
  {
   "cell_type": "code",
   "execution_count": null,
   "id": "433499ab",
   "metadata": {},
   "outputs": [],
   "source": [
    "labels = [\n",
    "   '০' , ' ১',  '২',  '৩',  '৪',  '৫',  '৬',  '৭',  '৮',  '৯',\n",
    "   'অ', 'ই', 'উ','এ','ক','খ','গ','ঘ','ঙ','চ','ছ', 'জ','ঝ','ট','ঠ', 'ড',\n",
    "   'ঢ', 'ত','থ','দ','ধ','ন','প','ফ','ব','ভ','ম','য','র','ল', 'শ','স','হ',\n",
    "   'বরিশাল','ঢাকা','চট্ট','মেট্রো'\n",
    "\n",
    "    ]"
   ]
  },
  {
   "cell_type": "code",
   "execution_count": null,
   "id": "7dd1284b",
   "metadata": {},
   "outputs": [],
   "source": [
    "# Define constants\n",
    "TARGET_WIDTH = 128\n",
    "TARGET_HEIGHT = 128\n",
    "MODEL_PATH = './trained_model'"
   ]
  },
  {
   "cell_type": "code",
   "execution_count": null,
   "id": "611e8763",
   "metadata": {},
   "outputs": [],
   "source": [
    "# Load the image\n",
    "original_image = cv2.imread(args[\"image\"])\n",
    "# Preprocessing the image\n",
    "image = cv2.resize(original_image, (TARGET_WIDTH, TARGET_HEIGHT))\n",
    "image = image.astype(\"float\") / 255.0\n",
    "image = img_to_array(image)\n",
    "image = np.expand_dims(image, axis=0)"
   ]
  },
  {
   "cell_type": "code",
   "execution_count": null,
   "id": "ad98a78b",
   "metadata": {},
   "outputs": [],
   "source": [
    "# Load the trained convolutional neural network\n",
    "print(\"[INFO] Loading my model...\")\n",
    "model = load_model(MODEL_PATH, compile=False)"
   ]
  },
  {
   "cell_type": "code",
   "execution_count": null,
   "id": "d37c1c8a",
   "metadata": {},
   "outputs": [],
   "source": [
    "def display(img_, title=''):\n",
    "    img = cv2.cvtColor(img_, cv2.COLOR_BGR2RGB)\n",
    "    fig = plt.figure(figsize=(10,6))\n",
    "    ax = plt.subplot(111)\n",
    "    ax.imshow(img)\n",
    "    plt.axis('off')\n",
    "    plt.title(title)\n",
    "    plt.show()"
   ]
  },
  {
   "cell_type": "code",
   "execution_count": null,
   "id": "37848e98",
   "metadata": {},
   "outputs": [],
   "source": [
    "# Classify the input image then find the index of the class with the *largest* probability\n",
    "print(\"[INFO] Classifying image...\")\n",
    "prob = model.predict(image)[0]\n",
    "idx = np.argsort(prob)[-1]\n"
   ]
  },
  {
   "cell_type": "code",
   "execution_count": null,
   "id": "350d1e2a",
   "metadata": {},
   "outputs": [],
   "source": [
    "# Display original image\n",
    "cv2.imshow(\"Original Image\", original_image)\n",
    "cv2.waitKey(0);"
   ]
  },
  {
   "cell_type": "code",
   "execution_count": null,
   "id": "369f28c8",
   "metadata": {},
   "outputs": [],
   "source": [
    "# Display the predicted image\n",
    "cv2.putText(original_image, 'Character is ' + labels[idx], \n",
    "    (10, 100), \n",
    "    cv2.FONT_HERSHEY_SIMPLEX, \n",
    "    2,\n",
    "    (255,0,255),\n",
    "    2)\n",
    "cv2.imshow(\"Recognised Image\", original_image)\n",
    "cv2.waitKey(0)"
   ]
  },
  {
   "cell_type": "code",
   "execution_count": null,
   "id": "1347915a",
   "metadata": {},
   "outputs": [],
   "source": []
  }
 ],
 "metadata": {
  "kernelspec": {
   "display_name": "Python 3 (ipykernel)",
   "language": "python",
   "name": "python3"
  },
  "language_info": {
   "codemirror_mode": {
    "name": "ipython",
    "version": 3
   },
   "file_extension": ".py",
   "mimetype": "text/x-python",
   "name": "python",
   "nbconvert_exporter": "python",
   "pygments_lexer": "ipython3",
   "version": "3.9.5"
  }
 },
 "nbformat": 4,
 "nbformat_minor": 5
}
